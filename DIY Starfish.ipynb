{
 "cells": [
  {
   "cell_type": "code",
   "execution_count": 1,
   "metadata": {
    "collapsed": true
   },
   "outputs": [],
   "source": [
    "import numpy as np\n",
    "import matplotlib.pyplot as plt\n",
    "import scipy as scy\n",
    "from scipy import stats\n",
    "from sklearn import decomposition\n",
    "from scipy import interpolate\n",
    "#%matplotlib qt5\n",
    "#plt.rcParams[\"figure.figsize\"] = (7,7)\n",
    "import itertools\n",
    "from numpy import pi\n",
    "import emcee\n",
    "import corner"
   ]
  },
  {
   "cell_type": "code",
   "execution_count": 2,
   "metadata": {},
   "outputs": [],
   "source": [
    "gflux = np.load(\"gridflux.npy\")\n",
    "gtemps = np.load(\"gridtemps.npy\")\n",
    "gwl = np.load(\"gridwl.npy\")"
   ]
  },
  {
   "cell_type": "code",
   "execution_count": 3,
   "metadata": {
    "collapsed": true
   },
   "outputs": [],
   "source": [
    "numT = len(gtemps)"
   ]
  },
  {
   "cell_type": "code",
   "execution_count": 4,
   "metadata": {
    "collapsed": true
   },
   "outputs": [],
   "source": [
    "nparams = 1\n",
    "modelNsamples = len(gwl)\n",
    "Ngrid = numT \n",
    "M = Ngrid*nparams"
   ]
  },
  {
   "cell_type": "code",
   "execution_count": 5,
   "metadata": {
    "collapsed": true
   },
   "outputs": [],
   "source": [
    "step1 = (0.1*gflux[3,:] + 0.9*gflux[4,:])\n",
    "samplesDesired = 200\n",
    "stepsize = int(modelNsamples/samplesDesired)\n",
    "step2 = np.zeros((int(np.ceil(modelNsamples/stepsize)),2))\n",
    "counter = 0\n",
    "while counter < modelNsamples:\n",
    "    tempstep = min(stepsize,modelNsamples-counter)\n",
    "    subsample = step1[counter:counter+tempstep]\n",
    "    noise = np.random.normal(loc=0, scale=0.01)\n",
    "    #print(int(counter/stepsize),counter, modelNsamples)\n",
    "    step2[int(counter/stepsize),:] = [np.mean(gwl[counter:counter+tempstep]),\\\n",
    "                       np.mean(subsample+noise)]\n",
    "    counter+=tempstep"
   ]
  },
  {
   "cell_type": "code",
   "execution_count": 6,
   "metadata": {
    "collapsed": true
   },
   "outputs": [],
   "source": [
    "# plt.plot(step2[:,0],step2[:,1],alpha=0.5)\n",
    "# plt.plot(gwl,gflux[3,:],alpha=0.5)\n",
    "# plt.plot(gwl,gflux[15,:],alpha=0.5)\n",
    "\n",
    "# plt.show()"
   ]
  },
  {
   "cell_type": "code",
   "execution_count": 7,
   "metadata": {},
   "outputs": [],
   "source": [
    "Nsamples = len(step2)"
   ]
  },
  {
   "cell_type": "code",
   "execution_count": 8,
   "metadata": {},
   "outputs": [],
   "source": [
    "#vectors for the parameter space\n",
    "xv = gtemps\n",
    "wl = step2[:,0]  #need data for this"
   ]
  },
  {
   "cell_type": "code",
   "execution_count": 9,
   "metadata": {},
   "outputs": [],
   "source": [
    "templateData = np.zeros((Ngrid,Nsamples))\n",
    "for i in range(numT):\n",
    "    tempDat = interpolate.interp1d(gwl,gflux[i,:],kind='cubic')(wl)\n",
    "    templateData[i] = tempDat"
   ]
  },
  {
   "cell_type": "code",
   "execution_count": 10,
   "metadata": {},
   "outputs": [],
   "source": [
    "def spectral_whitener(specgrid):\n",
    "    ximu = np.mean(specgrid,axis=0)\n",
    "    xisigma = np.std(specgrid,axis=0)\n",
    "    return ximu, xisigma, (specgrid-ximu)/xisigma\n",
    "\n",
    "def eigen_spec(whitened, s=0.98):\n",
    "    pca = decomposition.PCA()\n",
    "    pca.fit(whitened)\n",
    "    comps = pca.explained_variance_ratio_\n",
    "    psum = 0\n",
    "    count = 0\n",
    "    l = len(comps)\n",
    "    while psum < s and count < l:\n",
    "        psum+=comps[count]\n",
    "        count+=1\n",
    "    xik = [0]*count\n",
    "    counter = 0\n",
    "    l2 = len(whitened)\n",
    "    global nparams\n",
    "    while counter < count:\n",
    "        xik[counter] = pca.components_[counter]*\\\n",
    "        pca.singular_values_[counter]/(l2*nparams)**(1/2)\n",
    "        counter+=1\n",
    "    return count, np.array(xik).T\n",
    "\n",
    "def w_gen(whitened, phi):\n",
    "    l = whitened.shape[0]\n",
    "    wgrid = np.zeros((l, phi.shape[1]))\n",
    "    reuse_mat = np.linalg.pinv(phi)\n",
    "    for i in range(l):\n",
    "        wgrid[i] = reuse_mat@whitened[i]\n",
    "    return wgrid.T\n",
    " \n",
    "def phi_grid_maker(phi):\n",
    "    global M\n",
    "    Im = np.eye(M)\n",
    "    phigrid = np.kron(Im,phi[:,0])\n",
    "    for i in range(1,phi.shape[1]):\n",
    "        phigrid = np.concatenate((phigrid,np.kron(Im,phi[:,i])),axis=0)\n",
    "    return phigrid.T\n",
    "\n",
    "def klist_maker(xvec, ak_list, lk_list):\n",
    "    alist = ak_list**2\n",
    "    llist = lk_list**(-2)\n",
    "    Ngrid = xvec.shape[0]\n",
    "    combos = list(itertools.combinations_with_replacement(np.arange(Ngrid),2))\n",
    "    m = len(alist)\n",
    "    Rlist = [np.atleast_1d(xvec[i]-xvec[j]) for i,j in combos]\n",
    "    klist = [0]*m\n",
    "    for i in range(m):\n",
    "        ele = np.zeros((Ngrid,Ngrid))\n",
    "        for index, (row,col) in enumerate(combos):\n",
    "            covar = alist[i]*\\\n",
    "            np.exp(-0.5*Rlist[index].T@np.diag(llist[i])@Rlist[index])\n",
    "            \n",
    "            ele[row,col] = ele[col,row] = covar\n",
    "        klist[i] = ele\n",
    "    return klist\n",
    "\n",
    "def sigma_grid_maker(klist):\n",
    "    return scy.linalg.block_diag(*klist)\n",
    "\n",
    "def kstar_list_maker(xvec, thetaStar, ak_list, lk_list):\n",
    "    alist = ak_list**2\n",
    "    llist = lk_list**(-2)\n",
    "    Ngrid = xvec.shape[0]\n",
    "    m = len(alist)\n",
    "    kstar_list=[0]*m\n",
    "    Rlist = [np.atleast_1d(xvec[i]-thetaStar) for i in range(Ngrid)]\n",
    "    reusedMats = [np.diag(llist[i]) for i in range(m)]\n",
    "    for i in range(m):\n",
    "        ele = np.zeros((Ngrid))\n",
    "        for j,item in enumerate(Rlist):\n",
    "            ele[j] = alist[i]*np.exp(-0.5*item.T@reusedMats[i]@item)\n",
    "        kstar_list[i] = ele\n",
    "    return kstar_list\n",
    "\n",
    "def sigmastar_grid_maker(kstar_list):\n",
    "    return scy.linalg.block_diag(*kstar_list).T\n",
    "\n",
    "def thetaStar_func(thetaStar, xv, alist, llist, lambda_xi,wgrid,\n",
    "                   phi_grid,sigma_grid,sigmastar):\n",
    "    kstarlist = kstar_list_maker(xv, thetaStar, alist, llist)\n",
    "    sigmastar_grid = sigmastar_grid_maker(kstarlist)\n",
    "    Mm = phi_grid.shape[1]\n",
    "    usefulmat = np.linalg.solve(lambda_xi*(phi_grid.T)@\\\n",
    "                                phi_grid +sigma_grid,np.eye(Mm))\n",
    "    mu_w = sigmastar_grid.T@usefulmat@wgrid\n",
    "    sigma_w = sigmastar - sigmastar_grid.T@usefulmat@sigmastar_grid\n",
    "    return mu_w, sigma_w\n",
    "\n",
    "# def C_maker(wl,aG,lG,r0_coeff=4):\n",
    "#     l = wl.shape[0]\n",
    "#     C = np.zeros((l,l))\n",
    "#     r0 = r0_coeff*lG\n",
    "#     #might as well calculate these ahead of looping\n",
    "#     const1 = 1.5e5 #c/2, units have to jive with lG\n",
    "#     const2 = pi/r0\n",
    "#     const3 = (3)**(1/2)/lG\n",
    "#     combos = itertools.combinations_with_replacement(np.arange(l),2)\n",
    "#     for i, j in combos:\n",
    "#         rij = const1*(wl[j]-wl[i])/(wl[i]+wl[j])#wl[j] > wl[i] these are already sorted\n",
    "#         if rij > r0 :\n",
    "#             continue\n",
    "#         C[i,j] = C[j,i] = 0.5*(1+np.cos(const2*rij))*\\\n",
    "#         aG*(1+rij*const3)*np.exp(-rij*const3)\n",
    "#     return C\n",
    "def C_maker(wl,aG,lG,r0_coeff=4):\n",
    "    l = wl.shape[0]\n",
    "    C = aG*np.eye(l)\n",
    "    r0 = r0_coeff*lG\n",
    "    #might as well calculate these ahead of looping\n",
    "    const1 = 1.5e5 #c/2, units have to jive with lG\n",
    "    const2 = pi/r0\n",
    "    const3 = (3)**(1/2)/lG\n",
    "    i, j = 0,1\n",
    "    while i < l:\n",
    "        while j < l:\n",
    "            rij = const1*(wl[j]-wl[i])/(wl[i]+wl[j])#wl[j] > wl[i] these are already sorted\n",
    "            if rij > r0 :\n",
    "                break\n",
    "            C[i,j] = C[j,i] = 0.5*(1+np.cos(const2*rij))*\\\n",
    "            aG*(1+rij*const3)*np.exp(-rij*const3)\n",
    "            j+=1\n",
    "        i+=1\n",
    "        j=i+1\n",
    "    return C\n",
    "\n",
    "def omnibus(thetaStar, xv, wl, aG, lG, alist, llist, lambda_xi, wgrid, phi,\n",
    "            xi_mu,xi_sigma,phi_grid):\n",
    "    C = C_maker(wl, aG, lG)\n",
    "    klist = klist_maker(xv, alist, llist)\n",
    "    sigma_grid = sigma_grid_maker(klist)\n",
    "    sigmastar = scy.linalg.block_diag(*alist**2)\n",
    "    mu_w, sigma_w = thetaStar_func(thetaStar, xv, alist, llist, lambda_xi, \n",
    "                                   wgrid, phi_grid,sigma_grid,sigmastar)\n",
    "    wsample = stats.multivariate_normal(mu_w,sigma_w).rvs()\n",
    "    intermediate_mat = np.diag(xi_sigma)@phi\n",
    "    mu_combined = xi_mu + intermediate_mat@mu_w\n",
    "    sigma_combined = intermediate_mat@sigma_w@(intermediate_mat.T) + C\n",
    "    return mu_combined, sigma_combined\n",
    "\n",
    "\n",
    "def arglistformatter(arglst,m,nparams):\n",
    "    #put an assertion about arglist length\n",
    "    thetStar = np.array(arglst[:nparams])\n",
    "    aaG = arglst[nparams]\n",
    "    llG = arglst[nparams+1]\n",
    "    aklist = np.array(arglst[nparams+2:nparams+2+m])\n",
    "    lklist = np.array(arglst[nparams+2+m:-1]).reshape((m,nparams))\n",
    "    lambdaxi = arglst[-1]\n",
    "    return thetStar, aaG, llG, aklist, lklist, lambdaxi\n",
    "\n",
    "def lnlikelihoodParentFunc(fobs, xv, wgrid, phi,xi_mu,xi_sigma, phi_grid, \n",
    "                           a_xi, b_xi,aG_dist,lG_dist,lambda_xi_dist,\n",
    "                           ak_dist,lk_dist,m,nparams):\n",
    "    def lnprob(argslist):\n",
    "        thetaStar, aG, lG, alist, llist, lambda_xi = \\\n",
    "        arglistformatter(argslist,m,nparams)\n",
    "        \n",
    "        mu, sigma = omnibus(thetaStar, xv, wl, aG, lG, alist, llist, \n",
    "                            lambda_xi, wgrid, phi,xi_mu,xi_sigma,phi_grid)\n",
    "        p = stats.multivariate_normal(mu,sigma).pdf(fobs)*aG_dist.pdf(aG)*\\\n",
    "    lG_dist.pdf(lG)*lambda_xi_dist.pdf(lambda_xi)*\\\n",
    "    np.prod(ak_dist.pdf(alist))*np.prod(lk_dist.pdf(llist))\n",
    "        if p <= 0:\n",
    "            return -np.inf\n",
    "        return np.log(p)\n",
    "    return lnprob\n"
   ]
  },
  {
   "cell_type": "code",
   "execution_count": 11,
   "metadata": {},
   "outputs": [],
   "source": [
    "xi_mu, xi_sigma, whiten = spectral_whitener(templateData)\n",
    "m, phi = eigen_spec(whiten,s=0.98)\n",
    "wvec = w_gen(whiten, phi)\n",
    "wgrid = wvec.flatten()\n",
    "phi_grid = phi_grid_maker(phi)"
   ]
  },
  {
   "cell_type": "code",
   "execution_count": 12,
   "metadata": {
    "collapsed": true
   },
   "outputs": [],
   "source": [
    "a_xi = 1\n",
    "b_xi = 1e4\n",
    "aG_loc = 3\n",
    "aG_scale = 1\n",
    "lG_loc = 10\n",
    "lG_scale = 5\n",
    "thetaStar_loc = xv[0]\n",
    "thetaStar_scale = xv[-1]-xv[0]\n",
    "ak_loc = 2\n",
    "ak_scale = 1.2\n",
    "lk_loc = 10\n",
    "lk_scale = 5"
   ]
  },
  {
   "cell_type": "code",
   "execution_count": 13,
   "metadata": {
    "collapsed": true
   },
   "outputs": [],
   "source": [
    "\n",
    "aG_dist = stats.uniform(loc=aG_loc, scale = aG_scale)\n",
    "lG_dist = stats.uniform(loc=lG_loc,scale=lG_scale)\n",
    "lambda_xi_dist = stats.gamma(a_xi,scale=b_xi)\n",
    "thetaStar_dist = stats.uniform(loc=thetaStar_loc,scale=thetaStar_scale)\n",
    "ak_dist = stats.uniform(loc=ak_loc, scale=ak_scale)\n",
    "lk_dist = stats.uniform(loc=lk_loc, scale=lk_scale)\n",
    "\n",
    "#use these initial guesses to define the bounding ball"
   ]
  },
  {
   "cell_type": "code",
   "execution_count": 14,
   "metadata": {
    "collapsed": true
   },
   "outputs": [],
   "source": [
    "aG = aG_dist.rvs()\n",
    "lG = lG_dist.rvs()\n",
    "lambda_xi = lambda_xi_dist.rvs()\n",
    "alist = ak_dist.rvs(size=m)\n",
    "llist = lk_dist.rvs(size=(m,nparams))\n",
    "thetaStar = thetaStar_dist.rvs(size=nparams)\n"
   ]
  },
  {
   "cell_type": "code",
   "execution_count": 15,
   "metadata": {},
   "outputs": [
    {
     "name": "stdout",
     "output_type": "stream",
     "text": [
      "(1.0, 224.2469734596805)\n"
     ]
    }
   ],
   "source": [
    "mu, sigma = omnibus(thetaStar, xv, wl, aG, lG, alist, llist, 1,wgrid,phi, xi_mu,\\\n",
    "                    xi_sigma,phi_grid)\n",
    "print(np.linalg.slogdet(sigma))#check to ensure the covariance isn't too spread out"
   ]
  },
  {
   "cell_type": "code",
   "execution_count": 16,
   "metadata": {},
   "outputs": [],
   "source": [
    "\n",
    "ndims = nparams + 3 + m*(1+nparams)\n",
    "walkers = 8*ndims\n",
    "cycles = 100"
   ]
  },
  {
   "cell_type": "code",
   "execution_count": 17,
   "metadata": {
    "collapsed": true
   },
   "outputs": [],
   "source": [
    "pos2 = [[*thetaStar_dist.rvs(size=nparams).flatten(),aG_dist.rvs(),lG_dist.rvs(),\n",
    "           *ak_dist.rvs(size=m).flatten(),*lk_dist.rvs(size=(m,nparams)).flatten(),\n",
    "         lambda_xi_dist.rvs()] for i in range(walkers)]"
   ]
  },
  {
   "cell_type": "code",
   "execution_count": 18,
   "metadata": {
    "collapsed": true
   },
   "outputs": [],
   "source": [
    "# def lnlikelihoodParentFunc(fobs, xv, wgrid, phi,xi_mu,xi_sigma, phi_grid, a_xi, b_xi,\n",
    "#                           aG_dist,lG_dist,lambda_xi_dist,ak_dist,lk_dist,m,nparams):\n",
    "#     def lnprob(argslist):\n",
    "emceeFunc = lnlikelihoodParentFunc(step2[:,1], xv, wgrid, phi,xi_mu,xi_sigma,\n",
    "                                   phi_grid,a_xi,b_xi,aG_dist,lG_dist,\n",
    "                                   lambda_xi_dist,ak_dist,lk_dist,m,nparams)"
   ]
  },
  {
   "cell_type": "code",
   "execution_count": 19,
   "metadata": {},
   "outputs": [],
   "source": [
    "lnposteriorlikelihood = np.zeros(walkers)"
   ]
  },
  {
   "cell_type": "code",
   "execution_count": 20,
   "metadata": {},
   "outputs": [],
   "source": [
    "for i in range(walkers):\n",
    "    lnposteriorlikelihood[i] = emceeFunc(pos2[i])"
   ]
  },
  {
   "cell_type": "code",
   "execution_count": 21,
   "metadata": {},
   "outputs": [],
   "source": [
    "\n",
    "sampler = emcee.EnsembleSampler(walkers, ndims, emceeFunc)"
   ]
  },
  {
   "cell_type": "code",
   "execution_count": 22,
   "metadata": {},
   "outputs": [
    {
     "name": "stdout",
     "output_type": "stream",
     "text": [
      "         62089092 function calls in 174.082 seconds\n",
      "\n",
      "   Ordered by: internal time\n",
      "\n",
      "   ncalls  tottime  percall  cumtime  percall filename:lineno(function)\n",
      "    16000   46.973    0.003   48.691    0.003 decomp.py:240(eigh)\n",
      "     8000   34.349    0.004   66.347    0.008 <ipython-input-10-805dc7ac4977>:41(klist_maker)\n",
      "     8000   16.860    0.002   17.169    0.002 <ipython-input-10-805dc7ac4977>:105(C_maker)\n",
      "  5576000   13.820    0.000   22.147    0.000 twodim_base.py:244(diag)\n",
      "     8000   11.903    0.001   20.242    0.003 <ipython-input-10-805dc7ac4977>:79(thetaStar_func)\n",
      "  7961990    5.147    0.000    8.366    0.000 numeric.py:484(asanyarray)\n",
      "  8346291    4.100    0.000    4.100    0.000 {built-in method numpy.core.multiarray.array}\n",
      "     8000    3.604    0.000    3.932    0.000 linalg.py:296(solve)\n",
      "  5704002    3.558    0.000    3.558    0.000 {built-in method numpy.core.multiarray.zeros}\n",
      "  2052646    3.140    0.000    9.431    0.000 shape_base.py:9(atleast_1d)\n",
      "     8000    2.525    0.000    3.476    0.000 <ipython-input-10-805dc7ac4977>:61(kstar_list_maker)\n",
      "     8000    2.499    0.000  114.452    0.014 <ipython-input-10-805dc7ac4977>:125(omnibus)\n",
      "  1944576    2.176    0.000    2.176    0.000 {method 'reshape' of 'numpy.ndarray' objects}\n",
      "    40000    1.790    0.000    6.438    0.000 _distn_infrastructure.py:1626(pdf)\n",
      "     8000    1.712    0.000   10.309    0.001 <ipython-input-10-805dc7ac4977>:47(<listcomp>)\n",
      "   184801    1.231    0.000    1.231    0.000 {method 'reduce' of 'numpy.ufunc' objects}\n",
      "    16000    1.229    0.000   52.447    0.003 _multivariate.py:147(__init__)\n",
      " 13182909    1.127    0.000    1.127    0.000 {built-in method builtins.len}\n",
      "   176000    1.102    0.000    1.444    0.000 numerictypes.py:942(_can_coerce_all)\n",
      "    16000    1.023    0.000    1.167    0.000 _multivariate.py:104(<listcomp>)\n",
      "    16000    0.864    0.000    1.428    0.000 doccer.py:128(indentcount_lines)\n",
      "    24000    0.712    0.000    2.452    0.000 special_matrices.py:475(block_diag)\n",
      "  7240000    0.631    0.000    0.631    0.000 {built-in method builtins.abs}\n",
      "    24000    0.582    0.000    0.911    0.000 function_base.py:970(asarray_chkfinite)\n",
      "     8000    0.521    0.000    2.081    0.000 {method 'multivariate_normal' of 'mtrand.RandomState' objects}\n",
      "    16000    0.509    0.000    2.449    0.000 doccer.py:12(docformat)\n",
      "     8000    0.358    0.000    1.363    0.000 decomp_svd.py:16(svd)\n",
      "  2408663    0.342    0.000    0.342    0.000 {method 'append' of 'list' objects}\n",
      "     8000    0.341    0.000    0.744    0.000 <ipython-input-10-805dc7ac4977>:67(<listcomp>)\n",
      "    24000    0.321    0.000    1.307    0.000 _util.py:192(_asarray_validated)\n",
      "    36646    0.321    0.000    1.342    0.000 _distn_infrastructure.py:549(<listcomp>)\n",
      "    64000    0.295    0.000    0.295    0.000 {method 'splitlines' of 'str' objects}\n",
      "    24000    0.293    0.000    0.791    0.000 blas.py:279(_get_funcs)\n",
      "     8000    0.268    0.000    0.508    0.000 lapack.py:566(_compute_lwork)\n",
      "   312100    0.262    0.000    0.625    0.000 numeric.py:414(asarray)\n",
      "    88000    0.260    0.000    1.824    0.000 numerictypes.py:964(find_common_type)\n",
      "   896000    0.253    0.000    0.253    0.000 numerictypes.py:951(<listcomp>)\n",
      "     8000    0.250    0.000  173.971    0.022 <ipython-input-10-805dc7ac4977>:153(lnprob)\n",
      "    80263    0.239    0.000    1.020    0.000 function_base.py:1912(extract)\n",
      "  1032000    0.233    0.000    0.233    0.000 {built-in method builtins.min}\n",
      "    56000    0.231    0.000    0.713    0.000 fromnumeric.py:1743(sum)\n",
      "    16000    0.216    0.000    0.478    0.000 twodim_base.py:192(eye)\n",
      "    16000    0.216    0.000    0.639    0.000 _multivariate.py:52(_eigvalsh_to_eps)\n",
      "  1312000    0.193    0.000    0.193    0.000 {method 'lstrip' of 'str' objects}\n",
      "   160526    0.187    0.000    0.513    0.000 fromnumeric.py:1383(ravel)\n",
      "    16000    0.184    0.000   55.540    0.003 _multivariate.py:681(__init__)\n",
      "    24000    0.180    0.000    0.372    0.000 blas.py:218(find_best_blas_type)\n",
      "    40000    0.177    0.000    0.177    0.000 _distn_infrastructure.py:875(_support_mask)\n",
      "    72400    0.174    0.000    0.337    0.000 shape_base.py:61(atleast_2d)\n",
      "     8000    0.173    0.000    0.428    0.000 _multivariate.py:437(_logpdf)\n",
      "    40000    0.171    0.000    6.609    0.000 _distn_infrastructure.py:449(pdf)\n",
      "     8000    0.168    0.000    0.168    0.000 {built-in method numpy.core.multiarray.dot}\n",
      "    36646    0.164    0.000    1.946    0.000 _distn_infrastructure.py:524(argsreduce)\n",
      "    29675    0.151    0.000    0.151    0.000 _continuous_distns.py:5441(_pdf)\n",
      "    56801    0.150    0.000    0.646    0.000 fromnumeric.py:1900(any)\n",
      "    64000    0.139    0.000    0.139    0.000 {method 'expandtabs' of 'str' objects}\n",
      "    16000    0.134    0.000    2.695    0.000 _multivariate.py:344(__init__)\n",
      "    24000    0.130    0.000    0.298    0.000 _multivariate.py:359(_process_parameters)\n",
      "   369818    0.123    0.000    0.123    0.000 {built-in method builtins.isinstance}\n",
      "    88000    0.111    0.000    0.111    0.000 {built-in method builtins.getattr}\n",
      "    40000    0.109    0.000    0.109    0.000 {built-in method numpy.core.multiarray.putmask}\n",
      "    80263    0.106    0.000    0.106    0.000 {method 'take' of 'numpy.ndarray' objects}\n",
      "    88000    0.102    0.000    0.102    0.000 numerictypes.py:1015(<listcomp>)\n",
      "     6971    0.092    0.000    0.092    0.000 _continuous_distns.py:2331(_logpdf)\n",
      "    16000    0.086    0.000    0.269    0.000 fromnumeric.py:2200(amax)\n",
      "    16000    0.085    0.000    1.560    0.000 _multivariate.py:87(_pinv_1d)\n",
      "   160526    0.082    0.000    0.082    0.000 {method 'ravel' of 'numpy.ndarray' objects}\n",
      "    16000    0.080    0.000    0.112    0.000 _multivariate.py:184(__init__)\n",
      "    16000    0.072    0.000   55.612    0.003 _multivariate.py:348(__call__)\n",
      "    80263    0.069    0.000    0.069    0.000 {method 'nonzero' of 'numpy.ndarray' objects}\n",
      "    40000    0.068    0.000    0.075    0.000 _distn_infrastructure.py:863(_argcheck)\n",
      "    24000    0.066    0.000    0.401    0.000 special_matrices.py:538(<listcomp>)\n",
      "    36646    0.065    0.000    0.065    0.000 {built-in method numpy.core.multiarray._insert}\n",
      "    56801    0.065    0.000    0.387    0.000 {method 'any' of 'numpy.ndarray' objects}\n",
      "    16000    0.061    0.000    0.072    0.000 getlimits.py:94(__new__)\n",
      "     8000    0.059    0.000    0.100    0.000 linalg.py:139(_commonType)\n",
      "    16000    0.055    0.000    0.055    0.000 {method 'astype' of 'numpy.ndarray' objects}\n",
      "     8000    0.055    0.000    0.055    0.000 getlimits.py:245(__init__)\n",
      "     8000    0.054    0.000    0.082    0.000 <ipython-input-10-805dc7ac4977>:140(arglistformatter)\n",
      "    36646    0.053    0.000    0.125    0.000 function_base.py:1963(place)\n",
      "     8000    0.051    0.000  174.022    0.022 ensemble.py:518(__call__)\n",
      "    16000    0.048    0.000    0.138    0.000 fromnumeric.py:2433(prod)\n",
      "    16000    0.047    0.000    0.088    0.000 linalg.py:106(_makearray)\n",
      "    56000    0.047    0.000    0.449    0.000 _methods.py:31(_sum)\n",
      "    80263    0.047    0.000    0.153    0.000 fromnumeric.py:55(take)\n",
      "    80263    0.047    0.000    0.115    0.000 fromnumeric.py:1490(nonzero)\n",
      "     8000    0.043    0.000    1.038    0.000 <ipython-input-10-805dc7ac4977>:58(sigma_grid_maker)\n",
      "     8000    0.041    0.000    0.566    0.000 _multivariate.py:734(logpdf)\n",
      "     8000    0.041    0.000    2.230    0.000 _multivariate.py:626(rvs)\n",
      "    24000    0.041    0.000    0.832    0.000 lapack.py:496(get_lapack_funcs)\n",
      "    88000    0.040    0.000    0.040    0.000 {method 'get' of 'dict' objects}\n",
      "     8000    0.040    0.000    0.607    0.000 _multivariate.py:740(pdf)\n",
      "    56801    0.038    0.000    0.322    0.000 _methods.py:37(_any)\n",
      "    16000    0.038    0.000    0.109    0.000 fromnumeric.py:2300(amin)\n",
      "     8000    0.037    0.000    0.070    0.000 _multivariate.py:419(_process_quantiles)\n",
      "    16000    0.036    0.000    0.061    0.000 type_check.py:237(iscomplexobj)\n",
      "     8000    0.034    0.000    0.761    0.000 <ipython-input-10-805dc7ac4977>:76(sigmastar_grid_maker)\n",
      "    16000    0.033    0.000    0.047    0.000 _multivariate.py:40(_squeeze_output)\n",
      "    24000    0.033    0.000    0.301    0.000 {method 'all' of 'numpy.ndarray' objects}\n",
      "    48000    0.033    0.000    0.033    0.000 {method 'join' of 'str' objects}\n",
      "    16000    0.032    0.000    0.032    0.000 _util.py:173(check_random_state)\n",
      "     8000    0.031    0.000    0.031    0.000 {built-in method numpy.core.multiarray.arange}\n",
      "      200    0.030    0.000  174.064    0.870 ensemble.py:341(_get_lnprob)\n",
      "     8000    0.030    0.000    0.045    0.000 linalg.py:209(_assertNdSquareness)\n",
      "     8000    0.029    0.000    0.162    0.000 <ipython-input-10-805dc7ac4977>:68(<listcomp>)\n",
      "     8000    0.028    0.000    0.028    0.000 linalg.py:101(get_linalg_error_extobj)\n",
      "    24000    0.028    0.000    0.043    0.000 base.py:1202(isspmatrix)\n",
      "    40000    0.027    0.000    0.027    0.000 fromnumeric.py:1574(shape)\n",
      "    24000    0.026    0.000    0.032    0.000 core.py:6048(isMaskedArray)\n",
      "     6971    0.023    0.000    0.115    0.000 _continuous_distns.py:2327(_pdf)\n",
      "    24000    0.023    0.000    0.268    0.000 _methods.py:40(_all)\n",
      "     8000    0.023    0.000    0.023    0.000 {built-in method builtins.hasattr}\n",
      "    24000    0.022    0.000    0.022    0.000 special_matrices.py:540(<listcomp>)\n",
      "     8000    0.020    0.000    0.024    0.000 linalg.py:198(_assertRankAtLeast2)\n",
      "    16000    0.019    0.000    0.184    0.000 _methods.py:25(_amax)\n",
      "    24000    0.019    0.000    0.019    0.000 special_matrices.py:545(<listcomp>)\n",
      "    24000    0.019    0.000    0.019    0.000 blas.py:259(<listcomp>)\n",
      "    88000    0.018    0.000    0.018    0.000 numerictypes.py:1016(<listcomp>)\n",
      "    16000    0.017    0.000    0.023    0.000 linalg.py:124(_realType)\n",
      "    24000    0.017    0.000    0.017    0.000 {method 'index' of 'list' objects}\n",
      "    24000    0.016    0.000    0.016    0.000 special_matrices.py:546(<listcomp>)\n",
      "     8000    0.015    0.000    2.245    0.000 _multivariate.py:752(rvs)\n",
      "    56000    0.015    0.000    0.015    0.000 {built-in method builtins.issubclass}\n",
      "    24000    0.014    0.000    0.018    0.000 linalg.py:111(isComplexType)\n",
      "    16000    0.013    0.000    0.013    0.000 {method 'squeeze' of 'numpy.ndarray' objects}\n",
      "     8000    0.013    0.000    0.013    0.000 getlimits.py:270(max)\n",
      "      200    0.012    0.000  174.082    0.870 ensemble.py:292(_propose_stretch)\n",
      "    16000    0.012    0.000    0.071    0.000 _methods.py:28(_amin)\n",
      "    16000    0.011    0.000    0.090    0.000 _methods.py:34(_prod)\n",
      "     8000    0.011    0.000    0.034    0.000 <frozen importlib._bootstrap>:995(_handle_fromlist)\n",
      "    16000    0.010    0.000    0.010    0.000 {method 'lower' of 'str' objects}\n",
      "      101    0.009    0.000  174.095    1.724 ensemble.py:130(sample)\n",
      "     8000    0.009    0.000    0.009    0.000 {built-in method builtins.max}\n",
      "     8000    0.009    0.000    0.009    0.000 lapack.py:595(<listcomp>)\n",
      "    24000    0.008    0.000    0.008    0.000 misc.py:169(_datacopied)\n",
      "    16000    0.006    0.000    0.006    0.000 {method 'items' of 'dict' objects}\n",
      "     8000    0.005    0.000    0.005    0.000 _multivariate.py:205(_get_random_state)\n",
      "     8000    0.003    0.000    0.003    0.000 {method '__array_prepare__' of 'numpy.ndarray' objects}\n",
      "     8000    0.003    0.000    0.003    0.000 <string>:2(_parse_args)\n",
      "      400    0.002    0.000    0.002    0.000 {method 'rand' of 'mtrand.RandomState' objects}\n",
      "      200    0.002    0.000    0.002    0.000 ensemble.py:383(<listcomp>)\n",
      "      200    0.002    0.000    0.002    0.000 {method 'randint' of 'mtrand.RandomState' objects}\n",
      "      200    0.002    0.000    0.002    0.000 ensemble.py:389(<listcomp>)\n",
      "      100    0.001    0.000    0.001    0.000 {method 'get_state' of 'mtrand.RandomState' objects}\n",
      "      200    0.001    0.000    0.001    0.000 ensemble.py:386(<listcomp>)\n",
      "        1    0.000    0.000  174.096  174.096 sampler.py:135(run_mcmc)\n",
      "      100    0.000    0.000    0.002    0.000 sampler.py:49(random_state)\n",
      "        2    0.000    0.000    0.000    0.000 {built-in method numpy.core.multiarray.concatenate}\n",
      "        2    0.000    0.000    0.000    0.000 {built-in method builtins.compile}\n",
      "        2    0.000    0.000  174.096   87.048 interactiveshell.py:2851(run_code)\n",
      "        2    0.000    0.000    0.000    0.000 codeop.py:132(__call__)\n",
      "        1    0.000    0.000    0.000    0.000 sampler.py:61(random_state)\n",
      "        2    0.000    0.000    0.000    0.000 hooks.py:139(__call__)\n",
      "        1    0.000    0.000    0.000    0.000 {method 'set_state' of 'mtrand.RandomState' objects}\n",
      "        1    0.000    0.000    0.000    0.000 <ipython-input-22-d24a53be9ec3>:11(<module>)\n",
      "        2    0.000    0.000  174.096   87.048 {built-in method builtins.exec}\n",
      "        1    0.000    0.000  174.096  174.096 <ipython-input-22-d24a53be9ec3>:8(<module>)\n",
      "        2    0.000    0.000    0.000    0.000 ipstruct.py:125(__getattr__)\n",
      "        2    0.000    0.000    0.000    0.000 interactiveshell.py:1065(user_global_ns)\n",
      "        2    0.000    0.000    0.000    0.000 hooks.py:204(pre_run_code_hook)\n",
      "        1    0.000    0.000    0.000    0.000 {method 'disable' of '_lsprof.Profiler' objects}\n",
      "\n",
      "\n"
     ]
    }
   ],
   "source": [
    "import cProfile\n",
    "\n",
    "# Set up profiling\n",
    "pr = cProfile.Profile()\n",
    "pr.enable()\n",
    "\n",
    "# Actually run a command we want to time\n",
    "storage = sampler.run_mcmc(pos2,cycles, lnprob0 = lnposteriorlikelihood)\n",
    "\n",
    "# Done and print\n",
    "pr.disable()\n",
    "pr.print_stats(sort='time')\n"
   ]
  },
  {
   "cell_type": "code",
   "execution_count": 23,
   "metadata": {},
   "outputs": [],
   "source": [
    "samples = sampler.chain[:, 50:, :].reshape((-1, ndims))"
   ]
  },
  {
   "cell_type": "code",
   "execution_count": 24,
   "metadata": {
    "collapsed": true
   },
   "outputs": [],
   "source": [
    "fig = corner.corner(samples,labels=[r'T', 'aG','lG','ak1','ak2','ak3','lk1','lk2',\n",
    "                                    'lk3',r'$\\lambda_{\\xi}$'],\n",
    "                   quantiles=[0.16,0.5,0.84])\n",
    "# plt.tight_layout()\n",
    "# plt.show()\n",
    "fig.savefig(\"ThirteenthRun.pdf\")\n",
    "plt.close()"
   ]
  },
  {
   "cell_type": "code",
   "execution_count": 25,
   "metadata": {},
   "outputs": [
    {
     "data": {
      "text/plain": [
       "4300.0"
      ]
     },
     "execution_count": 25,
     "metadata": {},
     "output_type": "execute_result"
    }
   ],
   "source": [
    "\n",
    "xv[3]"
   ]
  },
  {
   "cell_type": "code",
   "execution_count": 26,
   "metadata": {},
   "outputs": [],
   "source": [
    "#parallel doesn't work right now\n",
    "#sampler2 = emcee.EnsembleSampler(walkers, ndims, emceeFunc,threads=8)"
   ]
  },
  {
   "cell_type": "code",
   "execution_count": 27,
   "metadata": {},
   "outputs": [],
   "source": [
    "#storage2 = sampler2.run_mcmc(pos2,cycles, lnprob0 = lnposteriorlikelihood)"
   ]
  },
  {
   "cell_type": "code",
   "execution_count": 28,
   "metadata": {},
   "outputs": [
    {
     "data": {
      "text/plain": [
       "'\\nnotes:\\nruns 1-3: 2*ndims walkers, 100 cycles\\nruns 4-6: 4*ndims walkers, 200 cycles\\nruns 7-9: 2*ndims walkers, 400 cycles\\nruns 10-13 : 8*ndims walkers, 100 cycles'"
      ]
     },
     "execution_count": 28,
     "metadata": {},
     "output_type": "execute_result"
    }
   ],
   "source": [
    "'''\n",
    "notes:\n",
    "runs 1-3: 2*ndims walkers, 100 cycles\n",
    "runs 4-6: 4*ndims walkers, 200 cycles\n",
    "runs 7-9: 2*ndims walkers, 400 cycles\n",
    "runs 10-13 : 8*ndims walkers, 100 cycles'''"
   ]
  },
  {
   "cell_type": "code",
   "execution_count": null,
   "metadata": {},
   "outputs": [],
   "source": []
  },
  {
   "cell_type": "code",
   "execution_count": null,
   "metadata": {
    "collapsed": true
   },
   "outputs": [],
   "source": []
  }
 ],
 "metadata": {
  "kernelspec": {
   "display_name": "Python [conda env:anaconda3]",
   "language": "python",
   "name": "conda-env-anaconda3-py"
  },
  "language_info": {
   "codemirror_mode": {
    "name": "ipython",
    "version": 3
   },
   "file_extension": ".py",
   "mimetype": "text/x-python",
   "name": "python",
   "nbconvert_exporter": "python",
   "pygments_lexer": "ipython3",
   "version": "3.5.4"
  }
 },
 "nbformat": 4,
 "nbformat_minor": 2
}
