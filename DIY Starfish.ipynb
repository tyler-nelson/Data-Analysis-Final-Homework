{
 "cells": [
  {
   "cell_type": "code",
   "execution_count": 1,
   "metadata": {
    "collapsed": true
   },
   "outputs": [],
   "source": [
    "import numpy as np\n",
    "import matplotlib.pyplot as plt\n",
    "import scipy as scy\n",
    "from scipy import stats\n",
    "from sklearn import decomposition\n",
    "from scipy import interpolate\n",
    "#%matplotlib qt5\n",
    "#plt.rcParams[\"figure.figsize\"] = (7,7)\n",
    "import itertools\n",
    "from numpy import pi\n",
    "import emcee\n",
    "import corner"
   ]
  },
  {
   "cell_type": "code",
   "execution_count": 2,
   "metadata": {},
   "outputs": [],
   "source": [
    "gflux = np.load(\"gridflux.npy\")\n",
    "gtemps = np.load(\"gridtemps.npy\")\n",
    "gwl = np.load(\"gridwl.npy\")"
   ]
  },
  {
   "cell_type": "code",
   "execution_count": 3,
   "metadata": {
    "collapsed": true
   },
   "outputs": [],
   "source": [
    "numT = len(gtemps)"
   ]
  },
  {
   "cell_type": "code",
   "execution_count": 4,
   "metadata": {
    "collapsed": true
   },
   "outputs": [],
   "source": [
    "nparams = 1\n",
    "modelNsamples = len(gwl)\n",
    "Ngrid = numT \n",
    "M = Ngrid*nparams"
   ]
  },
  {
   "cell_type": "code",
   "execution_count": 5,
   "metadata": {
    "collapsed": true
   },
   "outputs": [],
   "source": [
    "step1 = (0.1*gflux[3,:] + 0.9*gflux[4,:])\n",
    "samplesDesired = 200\n",
    "stepsize = int(modelNsamples/samplesDesired)\n",
    "step2 = np.zeros((int(np.ceil(modelNsamples/stepsize)),2))\n",
    "counter = 0\n",
    "while counter < modelNsamples:\n",
    "    tempstep = min(stepsize,modelNsamples-counter)\n",
    "    subsample = step1[counter:counter+tempstep]\n",
    "    noise = np.random.normal(loc=0, scale=0.01)\n",
    "    #print(int(counter/stepsize),counter, modelNsamples)\n",
    "    step2[int(counter/stepsize),:] = [np.mean(gwl[counter:counter+tempstep]),\\\n",
    "                       np.mean(subsample+noise)]\n",
    "    counter+=tempstep"
   ]
  },
  {
   "cell_type": "code",
   "execution_count": 6,
   "metadata": {
    "collapsed": true
   },
   "outputs": [],
   "source": [
    "# plt.plot(step2[:,0],step2[:,1],alpha=0.5)\n",
    "# plt.plot(gwl,gflux[3,:],alpha=0.5)\n",
    "# plt.plot(gwl,gflux[15,:],alpha=0.5)\n",
    "\n",
    "# plt.show()"
   ]
  },
  {
   "cell_type": "code",
   "execution_count": 7,
   "metadata": {},
   "outputs": [],
   "source": [
    "Nsamples = len(step2)"
   ]
  },
  {
   "cell_type": "code",
   "execution_count": 8,
   "metadata": {},
   "outputs": [],
   "source": [
    "#vectors for the parameter space\n",
    "xv = gtemps\n",
    "wl = step2[:,0]  #need data for this"
   ]
  },
  {
   "cell_type": "code",
   "execution_count": 9,
   "metadata": {},
   "outputs": [],
   "source": [
    "templateData = np.zeros((Ngrid,Nsamples))\n",
    "for i in range(numT):\n",
    "    tempDat = interpolate.interp1d(gwl,gflux[i,:],kind='cubic')(wl)\n",
    "    templateData[i] = tempDat"
   ]
  },
  {
   "cell_type": "code",
   "execution_count": 10,
   "metadata": {},
   "outputs": [],
   "source": [
    "def spectral_whitener(specgrid):\n",
    "    ximu = np.mean(specgrid,axis=0)\n",
    "    xisigma = np.std(specgrid,axis=0)\n",
    "    return ximu, xisigma, (specgrid-ximu)/xisigma\n",
    "\n",
    "def eigen_spec(whitened, s=0.98):\n",
    "    pca = decomposition.PCA()\n",
    "    pca.fit(whitened)\n",
    "    comps = pca.explained_variance_ratio_\n",
    "    psum = 0\n",
    "    count = 0\n",
    "    l = len(comps)\n",
    "    while psum < s and count < l:\n",
    "        psum+=comps[count]\n",
    "        count+=1\n",
    "    xik = [0]*count\n",
    "    counter = 0\n",
    "    l2 = len(whitened)\n",
    "    global nparams\n",
    "    while counter < count:\n",
    "        xik[counter] = pca.components_[counter]*\\\n",
    "        pca.singular_values_[counter]/(l2*nparams)**(1/2)\n",
    "        counter+=1\n",
    "    return count, np.array(xik).T\n",
    "\n",
    "def w_gen(whitened, phi):\n",
    "    l = whitened.shape[0]\n",
    "    wgrid = np.zeros((l, phi.shape[1]))\n",
    "    reuse_mat = np.linalg.pinv(phi)\n",
    "    for i in range(l):\n",
    "        wgrid[i] = reuse_mat@whitened[i]\n",
    "    return wgrid.T\n",
    " \n",
    "def phi_grid_maker(phi):\n",
    "    global M\n",
    "    Im = np.eye(M)\n",
    "    phigrid = np.kron(Im,phi[:,0])\n",
    "    for i in range(1,phi.shape[1]):\n",
    "        phigrid = np.concatenate((phigrid,np.kron(Im,phi[:,i])),axis=0)\n",
    "    return phigrid.T\n",
    "\n",
    "def klist_maker(xvec, ak_list, lk_list):\n",
    "    alist = ak_list**2\n",
    "    llist = lk_list**(-2)\n",
    "    Ngrid = xvec.shape[0]\n",
    "    combos = list(itertools.combinations_with_replacement(np.arange(Ngrid),2))\n",
    "    m = len(alist)\n",
    "    Rlist = [np.atleast_1d(xvec[i]-xvec[j]) for i,j in combos]\n",
    "    klist = [0]*m\n",
    "    for i in range(m):\n",
    "        ele = np.zeros((Ngrid,Ngrid))\n",
    "        for index, (row,col) in enumerate(combos):\n",
    "            covar = alist[i]*\\\n",
    "            np.exp(-0.5*Rlist[index].T@np.diag(llist[i])@Rlist[index])\n",
    "            \n",
    "            ele[row,col] = ele[col,row] = covar\n",
    "        klist[i] = ele\n",
    "    return klist\n",
    "\n",
    "def sigma_grid_maker(klist):\n",
    "    return scy.linalg.block_diag(*klist)\n",
    "\n",
    "def kstar_list_maker(xvec, thetaStar, ak_list, lk_list):\n",
    "    alist = ak_list**2\n",
    "    llist = lk_list**(-2)\n",
    "    Ngrid = xvec.shape[0]\n",
    "    m = len(alist)\n",
    "    kstar_list=[0]*m\n",
    "    Rlist = [np.atleast_1d(xvec[i]-thetaStar) for i in range(Ngrid)]\n",
    "    reusedMats = [np.diag(llist[i]) for i in range(m)]\n",
    "    for i in range(m):\n",
    "        ele = np.zeros((Ngrid))\n",
    "        for j,item in enumerate(Rlist):\n",
    "            ele[j] = alist[i]*np.exp(-0.5*item.T@reusedMats[i]@item)\n",
    "        kstar_list[i] = ele\n",
    "    return kstar_list\n",
    "\n",
    "def sigmastar_grid_maker(kstar_list):\n",
    "    return scy.linalg.block_diag(*kstar_list).T\n",
    "\n",
    "def thetaStar_func(thetaStar, xv, alist, llist, lambda_xi,wgrid,\n",
    "                   phi_grid,sigma_grid,sigmastar):\n",
    "    kstarlist = kstar_list_maker(xv, thetaStar, alist, llist)\n",
    "    sigmastar_grid = sigmastar_grid_maker(kstarlist)\n",
    "    Mm = phi_grid.shape[1]\n",
    "    usefulmat = np.linalg.solve(lambda_xi*(phi_grid.T)@\\\n",
    "                                phi_grid +sigma_grid,np.eye(Mm))\n",
    "    mu_w = sigmastar_grid.T@usefulmat@wgrid\n",
    "    sigma_w = sigmastar - sigmastar_grid.T@usefulmat@sigmastar_grid\n",
    "    return mu_w, sigma_w\n",
    "\n",
    "def C_maker(wl,aG,lG,r0_coeff=4):\n",
    "    l = wl.shape[0]\n",
    "    C = np.zeros((l,l))\n",
    "    r0 = r0_coeff*lG\n",
    "    #might as well calculate these ahead of looping\n",
    "    const1 = 1.5e5 #c/2, units have to jive with lG\n",
    "    const2 = pi/r0\n",
    "    const3 = (3)**(1/2)/lG\n",
    "    combos = itertools.combinations_with_replacement(np.arange(l),2)\n",
    "    for i, j in combos:\n",
    "        rij = const1*(wl[j]-wl[i])/(wl[i]+wl[j])#wl[j] > wl[i] these are already sorted\n",
    "        if rij > r0 :\n",
    "            continue\n",
    "        C[i,j] = C[j,i] = 0.5*(1+np.cos(const2*rij))*\\\n",
    "        aG*(1+rij*const3)*np.exp(-rij*const3)\n",
    "    return C\n",
    "\n",
    "def omnibus(thetaStar, xv, wl, aG, lG, alist, llist, lambda_xi, wgrid, phi,\n",
    "            xi_mu,xi_sigma,phi_grid):\n",
    "    C = C_maker(wl, aG, lG)\n",
    "    klist = klist_maker(xv, alist, llist)\n",
    "    sigma_grid = sigma_grid_maker(klist)\n",
    "    sigmastar = scy.linalg.block_diag(*alist**2)\n",
    "    mu_w, sigma_w = thetaStar_func(thetaStar, xv, alist, llist, lambda_xi, \n",
    "                                   wgrid, phi_grid,sigma_grid,sigmastar)\n",
    "    wsample = stats.multivariate_normal(mu_w,sigma_w).rvs()\n",
    "    intermediate_mat = np.diag(xi_sigma)@phi\n",
    "    mu_combined = xi_mu + intermediate_mat@mu_w\n",
    "    sigma_combined = intermediate_mat@sigma_w@(intermediate_mat.T) + C\n",
    "    return mu_combined, sigma_combined\n",
    "\n",
    "\n",
    "def arglistformatter(arglst,m,nparams):\n",
    "    #put an assertion about arglist length\n",
    "    thetStar = np.array(arglst[:nparams])\n",
    "    aaG = arglst[nparams]\n",
    "    llG = arglst[nparams+1]\n",
    "    aklist = np.array(arglst[nparams+2:nparams+2+m])\n",
    "    lklist = np.array(arglst[nparams+2+m:-1]).reshape((m,nparams))\n",
    "    lambdaxi = arglst[-1]\n",
    "    return thetStar, aaG, llG, aklist, lklist, lambdaxi\n",
    "\n",
    "def lnlikelihoodParentFunc(fobs, xv, wgrid, phi,xi_mu,xi_sigma, phi_grid, \n",
    "                           a_xi, b_xi,aG_dist,lG_dist,lambda_xi_dist,\n",
    "                           ak_dist,lk_dist,m,nparams):\n",
    "    def lnprob(argslist):\n",
    "        thetaStar, aG, lG, alist, llist, lambda_xi = \\\n",
    "        arglistformatter(argslist,m,nparams)\n",
    "        \n",
    "        mu, sigma = omnibus(thetaStar, xv, wl, aG, lG, alist, llist, \n",
    "                            lambda_xi, wgrid, phi,xi_mu,xi_sigma,phi_grid)\n",
    "        p = stats.multivariate_normal(mu,sigma).pdf(fobs)*aG_dist.pdf(aG)*\\\n",
    "    lG_dist.pdf(lG)*lambda_xi_dist.pdf(lambda_xi)*\\\n",
    "    np.prod(ak_dist.pdf(alist))*np.prod(lk_dist.pdf(llist))\n",
    "        if p <= 0:\n",
    "            return -np.inf\n",
    "        return np.log(p)\n",
    "    return lnprob\n"
   ]
  },
  {
   "cell_type": "code",
   "execution_count": 11,
   "metadata": {},
   "outputs": [],
   "source": [
    "xi_mu, xi_sigma, whiten = spectral_whitener(templateData)\n",
    "m, phi = eigen_spec(whiten,s=0.98)\n",
    "wvec = w_gen(whiten, phi)\n",
    "wgrid = wvec.flatten()\n",
    "phi_grid = phi_grid_maker(phi)"
   ]
  },
  {
   "cell_type": "code",
   "execution_count": 12,
   "metadata": {
    "collapsed": true
   },
   "outputs": [],
   "source": [
    "a_xi = 1\n",
    "b_xi = 1e4\n",
    "aG_loc = 3\n",
    "aG_scale = 1\n",
    "lG_loc = 10\n",
    "lG_scale = 5\n",
    "thetaStar_loc = xv[0]\n",
    "thetaStar_scale = xv[-1]-xv[0]\n",
    "ak_loc = 2\n",
    "ak_scale = 1.2\n",
    "lk_loc = 10\n",
    "lk_scale = 5"
   ]
  },
  {
   "cell_type": "code",
   "execution_count": 13,
   "metadata": {
    "collapsed": true
   },
   "outputs": [],
   "source": [
    "\n",
    "aG_dist = stats.uniform(loc=aG_loc, scale = aG_scale)\n",
    "lG_dist = stats.uniform(loc=lG_loc,scale=lG_scale)\n",
    "lambda_xi_dist = stats.gamma(a_xi,scale=b_xi)\n",
    "thetaStar_dist = stats.uniform(loc=thetaStar_loc,scale=thetaStar_scale)\n",
    "ak_dist = stats.uniform(loc=ak_loc, scale=ak_scale)\n",
    "lk_dist = stats.uniform(loc=lk_loc, scale=lk_scale)\n",
    "\n",
    "#use these initial guesses to define the bounding ball"
   ]
  },
  {
   "cell_type": "code",
   "execution_count": 14,
   "metadata": {
    "collapsed": true
   },
   "outputs": [],
   "source": [
    "aG = aG_dist.rvs()\n",
    "lG = lG_dist.rvs()\n",
    "lambda_xi = lambda_xi_dist.rvs()\n",
    "alist = ak_dist.rvs(size=m)\n",
    "llist = lk_dist.rvs(size=(m,nparams))\n",
    "thetaStar = thetaStar_dist.rvs(size=nparams)\n"
   ]
  },
  {
   "cell_type": "code",
   "execution_count": 15,
   "metadata": {},
   "outputs": [
    {
     "name": "stdout",
     "output_type": "stream",
     "text": [
      "(1.0, 253.80614147107164)\n"
     ]
    }
   ],
   "source": [
    "mu, sigma = omnibus(thetaStar, xv, wl, aG, lG, alist, llist, 1,wgrid,phi, xi_mu,\\\n",
    "                    xi_sigma,phi_grid)\n",
    "print(np.linalg.slogdet(sigma))#check to ensure the covariance isn't too spread out"
   ]
  },
  {
   "cell_type": "code",
   "execution_count": 16,
   "metadata": {},
   "outputs": [],
   "source": [
    "\n",
    "ndims = nparams + 3 + m*(1+nparams)\n",
    "walkers = 8*ndims\n",
    "cycles = 100"
   ]
  },
  {
   "cell_type": "code",
   "execution_count": 17,
   "metadata": {
    "collapsed": true
   },
   "outputs": [],
   "source": [
    "pos2 = [[*thetaStar_dist.rvs(size=nparams).flatten(),aG_dist.rvs(),lG_dist.rvs(),\n",
    "           *ak_dist.rvs(size=m).flatten(),*lk_dist.rvs(size=(m,nparams)).flatten(),\n",
    "         lambda_xi_dist.rvs()] for i in range(walkers)]"
   ]
  },
  {
   "cell_type": "code",
   "execution_count": 18,
   "metadata": {
    "collapsed": true
   },
   "outputs": [],
   "source": [
    "# def lnlikelihoodParentFunc(fobs, xv, wgrid, phi,xi_mu,xi_sigma, phi_grid, a_xi, b_xi,\n",
    "#                           aG_dist,lG_dist,lambda_xi_dist,ak_dist,lk_dist,m,nparams):\n",
    "#     def lnprob(argslist):\n",
    "emceeFunc = lnlikelihoodParentFunc(step2[:,1], xv, wgrid, phi,xi_mu,xi_sigma,\n",
    "                                   phi_grid,a_xi,b_xi,aG_dist,lG_dist,\n",
    "                                   lambda_xi_dist,ak_dist,lk_dist,m,nparams)"
   ]
  },
  {
   "cell_type": "code",
   "execution_count": 19,
   "metadata": {},
   "outputs": [],
   "source": [
    "lnposteriorlikelihood = np.zeros(walkers)"
   ]
  },
  {
   "cell_type": "code",
   "execution_count": 20,
   "metadata": {},
   "outputs": [],
   "source": [
    "for i in range(walkers):\n",
    "    lnposteriorlikelihood[i] = emceeFunc(pos2[i])"
   ]
  },
  {
   "cell_type": "code",
   "execution_count": 21,
   "metadata": {},
   "outputs": [],
   "source": [
    "\n",
    "sampler = emcee.EnsembleSampler(walkers, ndims, emceeFunc)"
   ]
  },
  {
   "cell_type": "code",
   "execution_count": 22,
   "metadata": {},
   "outputs": [],
   "source": [
    "storage = sampler.run_mcmc(pos2,cycles, lnprob0 = lnposteriorlikelihood)"
   ]
  },
  {
   "cell_type": "code",
   "execution_count": 23,
   "metadata": {},
   "outputs": [],
   "source": [
    "samples = sampler.chain[:, 50:, :].reshape((-1, ndims))"
   ]
  },
  {
   "cell_type": "code",
   "execution_count": 24,
   "metadata": {
    "collapsed": true
   },
   "outputs": [],
   "source": [
    "fig = corner.corner(samples,labels=[r'T', 'aG','lG','ak1','ak2','ak3','lk1','lk2',\n",
    "                                    'lk3',r'$\\lambda_{\\xi}$'],\n",
    "                   quantiles=[0.16,0.5,0.84])\n",
    "# plt.tight_layout()\n",
    "# plt.show()\n",
    "fig.savefig(\"EleventhRun.pdf\")\n",
    "plt.close()"
   ]
  },
  {
   "cell_type": "code",
   "execution_count": 25,
   "metadata": {},
   "outputs": [
    {
     "data": {
      "text/plain": [
       "4300.0"
      ]
     },
     "execution_count": 25,
     "metadata": {},
     "output_type": "execute_result"
    }
   ],
   "source": [
    "\n",
    "xv[3]"
   ]
  },
  {
   "cell_type": "code",
   "execution_count": 26,
   "metadata": {},
   "outputs": [],
   "source": [
    "#parallel doesn't work right now\n",
    "#sampler2 = emcee.EnsembleSampler(walkers, ndims, emceeFunc,threads=8)"
   ]
  },
  {
   "cell_type": "code",
   "execution_count": 27,
   "metadata": {
    "collapsed": true
   },
   "outputs": [],
   "source": [
    "#storage2 = sampler2.run_mcmc(pos2,cycles, lnprob0 = lnposteriorlikelihood)"
   ]
  },
  {
   "cell_type": "code",
   "execution_count": 28,
   "metadata": {},
   "outputs": [
    {
     "data": {
      "text/plain": [
       "'\\nnotes:\\nruns 1-3: 2*ndims walkers, 100 cycles\\nruns 4-6: 4*ndims walkers, 200 cycles\\nruns 7-9: 2*ndims walkers, 400 cycles\\nruns 10- : 8*ndims walkers, 100 cycles'"
      ]
     },
     "execution_count": 28,
     "metadata": {},
     "output_type": "execute_result"
    }
   ],
   "source": [
    "'''\n",
    "notes:\n",
    "runs 1-3: 2*ndims walkers, 100 cycles\n",
    "runs 4-6: 4*ndims walkers, 200 cycles\n",
    "runs 7-9: 2*ndims walkers, 400 cycles\n",
    "runs 10- : 8*ndims walkers, 100 cycles'''"
   ]
  }
 ],
 "metadata": {
  "kernelspec": {
   "display_name": "Python [conda env:anaconda3]",
   "language": "python",
   "name": "conda-env-anaconda3-py"
  },
  "language_info": {
   "codemirror_mode": {
    "name": "ipython",
    "version": 3
   },
   "file_extension": ".py",
   "mimetype": "text/x-python",
   "name": "python",
   "nbconvert_exporter": "python",
   "pygments_lexer": "ipython3",
   "version": "3.5.4"
  }
 },
 "nbformat": 4,
 "nbformat_minor": 2
}
